{
 "cells": [
  {
   "cell_type": "code",
   "execution_count": 1,
   "metadata": {},
   "outputs": [],
   "source": [
    "import pandas as pd\n",
    "import numpy as np\n",
    "import json"
   ]
  },
  {
   "cell_type": "code",
   "execution_count": 39,
   "metadata": {},
   "outputs": [
    {
     "name": "stdout",
     "output_type": "stream",
     "text": [
      "<Response [200]>\n"
     ]
    }
   ],
   "source": [
    "import requests\n",
    "website_url = requests.get('https://en.wikipedia.org/wiki/List_of_postal_codes_of_Canada:_M')\n",
    "print(website_url)"
   ]
  },
  {
   "cell_type": "code",
   "execution_count": 40,
   "metadata": {},
   "outputs": [
    {
     "name": "stdout",
     "output_type": "stream",
     "text": [
      "Requirement already satisfied: BeautifulSoup4 in /Users/sysadmin/opt/anaconda3/lib/python3.7/site-packages (4.8.2)\r\n",
      "Requirement already satisfied: soupsieve>=1.2 in /Users/sysadmin/opt/anaconda3/lib/python3.7/site-packages (from BeautifulSoup4) (1.9.5)\r\n"
     ]
    }
   ],
   "source": [
    "!pip install BeautifulSoup4\n",
    "from bs4 import BeautifulSoup\n",
    "soup = BeautifulSoup(website_url.content,'html.parser')\n",
    "#print (soup.prettify())"
   ]
  },
  {
   "cell_type": "code",
   "execution_count": 47,
   "metadata": {
    "scrolled": true
   },
   "outputs": [
    {
     "name": "stdout",
     "output_type": "stream",
     "text": [
      "[['M3A', 'North York', 'Parkwoods'], ['M4A', 'North York', 'Victoria Village'], ['M5A', 'Downtown Toronto', 'Regent Park / Harbourfront'], ['M6A', 'North York', 'Lawrence Manor / Lawrence Heights'], ['M7A', 'Downtown Toronto', \"Queen's Park / Ontario Provincial Government\"], ['M9A', 'Etobicoke', 'Islington Avenue'], ['M1B', 'Scarborough', 'Malvern / Rouge'], ['M3B', 'North York', 'Don Mills'], ['M4B', 'East York', 'Parkview Hill / Woodbine Gardens'], ['M5B', 'Downtown Toronto', 'Garden District / Ryerson'], ['M6B', 'North York', 'Glencairn'], ['M9B', 'Etobicoke', 'West Deane Park / Princess Gardens / Martin Grove / Islington / Cloverdale'], ['M1C', 'Scarborough', 'Rouge Hill / Port Union / Highland Creek'], ['M3C', 'North York', 'Don Mills'], ['M4C', 'East York', 'Woodbine Heights'], ['M5C', 'Downtown Toronto', 'St. James Town'], ['M6C', 'York', 'Humewood-Cedarvale'], ['M9C', 'Etobicoke', 'Eringate / Bloordale Gardens / Old Burnhamthorpe / Markland Wood'], ['M1E', 'Scarborough', 'Guildwood / Morningside / West Hill'], ['M4E', 'East Toronto', 'The Beaches'], ['M5E', 'Downtown Toronto', 'Berczy Park'], ['M6E', 'York', 'Caledonia-Fairbanks'], ['M1G', 'Scarborough', 'Woburn'], ['M4G', 'East York', 'Leaside'], ['M5G', 'Downtown Toronto', 'Central Bay Street'], ['M6G', 'Downtown Toronto', 'Christie'], ['M1H', 'Scarborough', 'Cedarbrae'], ['M2H', 'North York', 'Hillcrest Village'], ['M3H', 'North York', 'Bathurst Manor / Wilson Heights / Downsview North'], ['M4H', 'East York', 'Thorncliffe Park'], ['M5H', 'Downtown Toronto', 'Richmond / Adelaide / King'], ['M6H', 'West Toronto', 'Dufferin / Dovercourt Village'], ['M1J', 'Scarborough', 'Scarborough Village'], ['M2J', 'North York', 'Fairview / Henry Farm / Oriole'], ['M3J', 'North York', 'Northwood Park / York University'], ['M4J', 'East York', 'East Toronto'], ['M5J', 'Downtown Toronto', 'Harbourfront East / Union Station / Toronto Islands'], ['M6J', 'West Toronto', 'Little Portugal / Trinity'], ['M1K', 'Scarborough', 'Kennedy Park / Ionview / East Birchmount Park'], ['M2K', 'North York', 'Bayview Village'], ['M3K', 'North York', 'Downsview'], ['M4K', 'East Toronto', 'The Danforth West / Riverdale'], ['M5K', 'Downtown Toronto', 'Toronto Dominion Centre / Design Exchange'], ['M6K', 'West Toronto', 'Brockton / Parkdale Village / Exhibition Place'], ['M1L', 'Scarborough', 'Golden Mile / Clairlea / Oakridge'], ['M2L', 'North York', 'York Mills / Silver Hills'], ['M3L', 'North York', 'Downsview'], ['M4L', 'East Toronto', 'India Bazaar / The Beaches West'], ['M5L', 'Downtown Toronto', 'Commerce Court / Victoria Hotel'], ['M6L', 'North York', 'North Park / Maple Leaf Park / Upwood Park'], ['M9L', 'North York', 'Humber Summit'], ['M1M', 'Scarborough', 'Cliffside / Cliffcrest / Scarborough Village West'], ['M2M', 'North York', 'Willowdale / Newtonbrook'], ['M3M', 'North York', 'Downsview'], ['M4M', 'East Toronto', 'Studio District'], ['M5M', 'North York', 'Bedford Park / Lawrence Manor East'], ['M6M', 'York', 'Del Ray / Mount Dennis / Keelsdale and Silverthorn'], ['M9M', 'North York', 'Humberlea / Emery'], ['M1N', 'Scarborough', 'Birch Cliff / Cliffside West'], ['M2N', 'North York', 'Willowdale'], ['M3N', 'North York', 'Downsview'], ['M4N', 'Central Toronto', 'Lawrence Park'], ['M5N', 'Central Toronto', 'Roselawn'], ['M6N', 'York', 'Runnymede / The Junction North'], ['M9N', 'York', 'Weston'], ['M1P', 'Scarborough', 'Dorset Park / Wexford Heights / Scarborough Town Centre'], ['M2P', 'North York', 'York Mills West'], ['M4P', 'Central Toronto', 'Davisville North'], ['M5P', 'Central Toronto', 'Forest Hill North & West'], ['M6P', 'West Toronto', 'High Park / The Junction South'], ['M9P', 'Etobicoke', 'Westmount'], ['M1R', 'Scarborough', 'Wexford / Maryvale'], ['M2R', 'North York', 'Willowdale'], ['M4R', 'Central Toronto', 'North Toronto West'], ['M5R', 'Central Toronto', 'The Annex / North Midtown / Yorkville'], ['M6R', 'West Toronto', 'Parkdale / Roncesvalles'], ['M7R', 'Mississauga', 'Canada Post Gateway Processing Centre'], ['M9R', 'Etobicoke', 'Kingsview Village / St. Phillips / Martin Grove Gardens / Richview Gardens'], ['M1S', 'Scarborough', 'Agincourt'], ['M4S', 'Central Toronto', 'Davisville'], ['M5S', 'Downtown Toronto', 'University of Toronto / Harbord'], ['M6S', 'West Toronto', 'Runnymede / Swansea'], ['M1T', 'Scarborough', \"Clarks Corners / Tam O'Shanter / Sullivan\"], ['M4T', 'Central Toronto', 'Moore Park / Summerhill East'], ['M5T', 'Downtown Toronto', 'Kensington Market / Chinatown / Grange Park'], ['M1V', 'Scarborough', \"Milliken / Agincourt North / Steeles East / L'Amoreaux East\"], ['M4V', 'Central Toronto', 'Summerhill West / Rathnelly / South Hill / Forest Hill SE / Deer Park'], ['M5V', 'Downtown Toronto', 'CN Tower / King and Spadina / Railway Lands / Harbourfront West / Bathurst Quay / South Niagara / Island airport'], ['M8V', 'Etobicoke', 'New Toronto / Mimico South / Humber Bay Shores'], ['M9V', 'Etobicoke', 'South Steeles / Silverstone / Humbergate / Jamestown / Mount Olive / Beaumond Heights / Thistletown / Albion Gardens'], ['M1W', 'Scarborough', \"Steeles West / L'Amoreaux West\"], ['M4W', 'Downtown Toronto', 'Rosedale'], ['M5W', 'Downtown Toronto', 'Stn A PO Boxes'], ['M8W', 'Etobicoke', 'Alderwood / Long Branch'], ['M9W', 'Etobicoke', 'Northwest'], ['M1X', 'Scarborough', 'Upper Rouge'], ['M4X', 'Downtown Toronto', 'St. James Town / Cabbagetown'], ['M5X', 'Downtown Toronto', 'First Canadian Place / Underground city'], ['M8X', 'Etobicoke', 'The Kingsway / Montgomery Road  / Old Mill North'], ['M4Y', 'Downtown Toronto', 'Church and Wellesley'], ['M7Y', 'East Toronto', 'Business reply mail Processing Centre'], ['M8Y', 'Etobicoke', \"Old Mill South / King's Mill Park / Sunnylea / Humber Bay / Mimico NE / The Queensway East / Royal York South East / Kingsway Park South East\"], ['M8Z', 'Etobicoke', 'Mimico NW / The Queensway West / South of Bloor / Kingsway Park South West / Royal York South West']]\n"
     ]
    }
   ],
   "source": [
    "table = soup.find('table')\n",
    "#print(table)\n",
    "trs = table.find_all('tr')\n",
    "row = []\n",
    "for i in trs:\n",
    "    a = i.find_all('td')\n",
    "    if a:\n",
    "        row.append(a)\n",
    "#print(row)\n",
    "list = []\n",
    "\n",
    "for j in row:\n",
    "    postalcode = j[0].text.rstrip()\n",
    "    borough = j[1].text.rstrip()\n",
    "    Neighborhood = j[2].text.rstrip()\n",
    "    if borough != 'Not assigned':\n",
    "        if Neighborhood == 'Not assigned':\n",
    "            Neighborhood = borough\n",
    "        list.append([postalcode,borough,Neighborhood])    \n",
    "            \n",
    "    \n",
    "print (list)\n",
    "\n"
   ]
  },
  {
   "cell_type": "code",
   "execution_count": 49,
   "metadata": {},
   "outputs": [
    {
     "name": "stdout",
     "output_type": "stream",
     "text": [
      "(103, 3)\n"
     ]
    }
   ],
   "source": [
    "col = ['PostalCode','Borough','Neighborhood']\n",
    "df = pd.DataFrame(list,columns=col)\n",
    "print(df.shape)"
   ]
  },
  {
   "cell_type": "code",
   "execution_count": 50,
   "metadata": {},
   "outputs": [],
   "source": [
    "df = df.groupby('PostalCode').agg(\n",
    "    {\n",
    "       'Borough' : 'first',\n",
    "        'Neighborhood':', '.join,}\n",
    ").reset_index()"
   ]
  },
  {
   "cell_type": "code",
   "execution_count": 51,
   "metadata": {},
   "outputs": [
    {
     "name": "stdout",
     "output_type": "stream",
     "text": [
      "(103, 3)\n"
     ]
    }
   ],
   "source": [
    "print(df.shape)"
   ]
  },
  {
   "cell_type": "code",
   "execution_count": 52,
   "metadata": {},
   "outputs": [
    {
     "name": "stdout",
     "output_type": "stream",
     "text": [
      "    PostalCode      Borough                                       Neighborhood\n",
      "0          M1B  Scarborough                                    Malvern / Rouge\n",
      "1          M1C  Scarborough           Rouge Hill / Port Union / Highland Creek\n",
      "2          M1E  Scarborough                Guildwood / Morningside / West Hill\n",
      "3          M1G  Scarborough                                             Woburn\n",
      "4          M1H  Scarborough                                          Cedarbrae\n",
      "..         ...          ...                                                ...\n",
      "98         M9N         York                                             Weston\n",
      "99         M9P    Etobicoke                                          Westmount\n",
      "100        M9R    Etobicoke  Kingsview Village / St. Phillips / Martin Grov...\n",
      "101        M9V    Etobicoke  South Steeles / Silverstone / Humbergate / Jam...\n",
      "102        M9W    Etobicoke                                          Northwest\n",
      "\n",
      "[103 rows x 3 columns]\n"
     ]
    }
   ],
   "source": [
    "print(df)"
   ]
  },
  {
   "cell_type": "code",
   "execution_count": null,
   "metadata": {},
   "outputs": [],
   "source": []
  }
 ],
 "metadata": {
  "kernelspec": {
   "display_name": "Python 3",
   "language": "python",
   "name": "python3"
  },
  "language_info": {
   "codemirror_mode": {
    "name": "ipython",
    "version": 3
   },
   "file_extension": ".py",
   "mimetype": "text/x-python",
   "name": "python",
   "nbconvert_exporter": "python",
   "pygments_lexer": "ipython3",
   "version": "3.7.6"
  }
 },
 "nbformat": 4,
 "nbformat_minor": 4
}
